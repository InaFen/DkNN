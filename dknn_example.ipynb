{
 "cells": [
  {
   "cell_type": "markdown",
   "metadata": {
    "id": "177NI7xuSbmg",
    "pycharm": {
     "name": "#%% md\n"
    }
   },
   "source": [
    "# Example for Deep k-Nearest Neighbor"
   ]
  },
  {
   "cell_type": "markdown",
   "metadata": {
    "pycharm": {
     "name": "#%% md\n"
    }
   },
   "source": [
    "## 1. Preparation for DkNN"
   ]
  },
  {
   "cell_type": "code",
   "execution_count": 4,
   "metadata": {
    "pycharm": {
     "name": "#%%\n"
    }
   },
   "outputs": [
    {
     "name": "stdout",
     "output_type": "stream",
     "text": [
      "Requirement already satisfied: falconn in /home/ani/.local/lib/python3.8/site-packages (1.3.1)\n"
     ]
    }
   ],
   "source": [
    "!pip install falconn"
   ]
  },
  {
   "cell_type": "code",
   "execution_count": 5,
   "metadata": {
    "pycharm": {
     "name": "#%%\n"
    }
   },
   "outputs": [],
   "source": [
    "from __future__ import absolute_import\n",
    "from __future__ import division\n",
    "from __future__ import print_function\n",
    "from __future__ import unicode_literals\n",
    "\n",
    "from dknn import *\n",
    "from utils_model import *\n",
    "from utils_plot import *\n",
    "\n",
    "import os\n",
    "import matplotlib\n",
    "import numpy as np\n",
    "import tensorflow as tf\n",
    "from six.moves import xrange\n",
    "\n",
    "\n",
    "if 'DISPLAY' not in os.environ:\n",
    "  matplotlib.use('Agg')\n"
   ]
  },
  {
   "cell_type": "code",
   "execution_count": 6,
   "metadata": {
    "colab": {
     "base_uri": "https://localhost:8080/"
    },
    "id": "2QWLx7Kt1Dgz",
    "outputId": "fc88d676-8813-4e62-f37d-6b55e174bb0a"
   },
   "outputs": [
    {
     "name": "stdout",
     "output_type": "stream",
     "text": [
      "Shape of training data: (60000, 28, 28, 1)\n",
      "Shape of training labels: (60000,)\n"
     ]
    }
   ],
   "source": [
    "# load and preprocess MNIST data\n",
    "mnist = tf.keras.datasets.mnist\n",
    "(X_train, y_train), (X_test, y_test) = mnist.load_data()\n",
    "X_train = X_train/255\n",
    "X_test = X_test/255\n",
    "\n",
    "X_train = np.expand_dims(X_train, axis=-1)\n",
    "X_test = np.expand_dims(X_test, axis=-1)\n",
    "print( \"Shape of training data: {}\".format( X_train.shape))\n",
    "print( \"Shape of training labels: {}\".format(y_train.shape))"
   ]
  },
  {
   "cell_type": "code",
   "execution_count": 7,
   "metadata": {
    "id": "a7nWO5MuThdI"
   },
   "outputs": [],
   "source": [
    "# make shallow CNN for testing\n",
    "model = make_shallow_basic_cnn()\n",
    "\n",
    "# compile the model \n",
    "model.compile(\n",
    "    optimizer='adam', \n",
    "    loss=tf.keras.losses.SparseCategoricalCrossentropy(from_logits=True), \n",
    "    metrics='accuracy', \n",
    ")\n"
   ]
  },
  {
   "cell_type": "code",
   "execution_count": 8,
   "metadata": {
    "colab": {
     "base_uri": "https://localhost:8080/"
    },
    "id": "k46XdOy-6FQ2",
    "outputId": "6b75798b-0f42-447a-8c2d-7c0e11c73be2"
   },
   "outputs": [
    {
     "name": "stdout",
     "output_type": "stream",
     "text": [
      "1875/1875 [==============================] - 15s 8ms/step - loss: 0.2144 - accuracy: 0.9395 - val_loss: 0.0840 - val_accuracy: 0.9742\n"
     ]
    }
   ],
   "source": [
    "# train the model\n",
    "# if you want specify batch size, learning rates etc.\n",
    "r = model.fit(X_train, y_train, \n",
    "    validation_data=(X_test, y_test),\n",
    "    epochs = 1,\n",
    ")"
   ]
  },
  {
   "cell_type": "code",
   "execution_count": 9,
   "metadata": {
    "colab": {
     "base_uri": "https://localhost:8080/"
    },
    "id": "3qBl3Xip7FaH",
    "outputId": "f4514714-4b4e-440c-b118-138ec5347667"
   },
   "outputs": [
    {
     "name": "stdout",
     "output_type": "stream",
     "text": [
      "Model: \"model\"\n",
      "_________________________________________________________________\n",
      "Layer (type)                 Output Shape              Param #   \n",
      "=================================================================\n",
      "input_1 (InputLayer)         [(None, 28, 28, 1)]       0         \n",
      "_________________________________________________________________\n",
      "conv2d (Conv2D)              (None, 28, 28, 32)        320       \n",
      "_________________________________________________________________\n",
      "max_pooling2d (MaxPooling2D) (None, 14, 14, 32)        0         \n",
      "_________________________________________________________________\n",
      "flatten (Flatten)            (None, 6272)              0         \n",
      "_________________________________________________________________\n",
      "dense (Dense)                (None, 10)                62730     \n",
      "=================================================================\n",
      "Total params: 63,050\n",
      "Trainable params: 63,050\n",
      "Non-trainable params: 0\n",
      "_________________________________________________________________\n"
     ]
    }
   ],
   "source": [
    "model.summary()"
   ]
  },
  {
   "cell_type": "code",
   "execution_count": 10,
   "metadata": {
    "colab": {
     "base_uri": "https://localhost:8080/"
    },
    "id": "ytBRU9GP-BI-",
    "outputId": "480242c0-48f2-48f0-940c-8ad2e2c282dd"
   },
   "outputs": [
    {
     "name": "stdout",
     "output_type": "stream",
     "text": [
      "Layer names (and shapes) of the model:\n",
      "input_1\n",
      "conv2d (3, 3, 1, 32)\n",
      "max_pooling2d\n",
      "flatten\n",
      "dense (6272, 10)\n"
     ]
    }
   ],
   "source": [
    "# summarize filter shapes per layer\n",
    "# we are only interested in convolutional layers\n",
    "print(\"Layer names (and shapes) of the model:\")\n",
    "layer_indices = []\n",
    "nb_layers = []\n",
    "for i in range(len(model.layers)):\n",
    "  layer = model.layers[i]\n",
    "  \n",
    "\t# check for convolutional layer\n",
    "  if ('conv' not in layer.name) and ('dense' not in layer.name):\n",
    "    print(layer.name)\n",
    "    continue\n",
    "  # get filter weights\n",
    "  filters, biases = layer.get_weights()\n",
    "  print(layer.name, filters.shape)\n",
    "  nb_layers.append(layer.name)\n",
    "  layer_indices.append(i)\n"
   ]
  },
  {
   "cell_type": "code",
   "execution_count": 11,
   "metadata": {
    "colab": {
     "base_uri": "https://localhost:8080/"
    },
    "id": "dmCZLTLK-Mj3",
    "outputId": "2ddf134b-b230-45bc-dbf3-00d290341308"
   },
   "outputs": [
    {
     "data": {
      "text/plain": [
       "(['conv2d', 'dense'], [1, 4])"
      ]
     },
     "execution_count": 11,
     "metadata": {},
     "output_type": "execute_result"
    }
   ],
   "source": [
    "nb_layers, layer_indices"
   ]
  },
  {
   "cell_type": "code",
   "execution_count": 12,
   "metadata": {
    "id": "rIiALn9y6XBO"
   },
   "outputs": [
    {
     "name": "stdout",
     "output_type": "stream",
     "text": [
      "Shape of training dataset: (10000, 28, 28, 1)(10000,)\n",
      "Shape of calibration dataset: (10, 28, 28, 1)(10,)\n",
      "Shape of test dataset: (9990, 28, 28, 1)(9990,)\n"
     ]
    }
   ],
   "source": [
    "# create the different datasets\n",
    "# Use a holdout of the test set to simulate calibration data for the DkNN.\n",
    "train_data = X_train[:10000]\n",
    "train_labels = y_train[:10000]\n",
    "print(\"Shape of training dataset: {}{}\".format(train_data.shape, train_labels.shape))\n",
    "\n",
    "#Number of calibration points for the DkNN\n",
    "nb_cali = 10\n",
    "\n",
    "cali_data = X_test[:nb_cali]\n",
    "y_cali = y_test[:nb_cali]\n",
    "cali_labels = y_cali\n",
    "print(\"Shape of calibration dataset: {}{}\".format(cali_data.shape, y_cali.shape))\n",
    "\n",
    "test_data = X_test[nb_cali:]\n",
    "y_test = y_test[nb_cali:]\n",
    "print(\"Shape of test dataset: {}{}\".format(test_data.shape, y_test.shape))\n",
    "\n"
   ]
  },
  {
   "cell_type": "markdown",
   "metadata": {},
   "source": [
    "## 2. Perform DkNN"
   ]
  },
  {
   "cell_type": "code",
   "execution_count": 13,
   "metadata": {},
   "outputs": [],
   "source": [
    "# Define callable that returns a dictionary of all activations for a dataset\n",
    "def get_activations(data):\n",
    "  \"\"\"\n",
    "  A callable that takes a np array and a layer name and returns its activations on the data.\n",
    "\n",
    "  :param data: dataset\n",
    "  :return: data_activations (dictionary of all activations for given dataset)\n",
    "  \"\"\"\n",
    "  data_activations = {}\n",
    "\n",
    "  # obtain all the predictions on the data by making a multi-output model\n",
    "  outputs = [model.get_layer(name=layer).output for layer in nb_layers]\n",
    "  model_mult = Model(inputs=model.inputs, outputs=outputs)\n",
    "\n",
    "  # use the model for predictions (returns a list)\n",
    "  predictions = model_mult.predict(data)\n",
    "\n",
    "  for i in range(len(predictions)):\n",
    "    pred = predictions[i]\n",
    "    layer = nb_layers[i]\n",
    "\n",
    "    # number of samples\n",
    "    num_samples = pred.shape[0]\n",
    "\n",
    "    # given the first dimension, numpy reshape has to deduce the other shape\n",
    "    reshaped_pred = pred.reshape(num_samples, -1)\n",
    "\n",
    "    data_activations[layer] = reshaped_pred\n",
    "  return data_activations"
   ]
  },
  {
   "cell_type": "code",
   "execution_count": 14,
   "metadata": {
    "colab": {
     "base_uri": "https://localhost:8080/"
    },
    "id": "yFCv6lHS7kKC",
    "outputId": "fb53b335-683b-4e2d-a3ce-fe1afb8d5af7"
   },
   "outputs": [
    {
     "name": "stdout",
     "output_type": "stream",
     "text": [
      "Getting activations for training data\n",
      "Received activations for training data\n",
      "Initializing locality-sensitive hashing\n",
      "Constructing the NearestNeighbor table\n",
      "dimension for tables is  25088\n",
      "Constructing the NearestNeighbor table\n",
      "dimension for tables is  10\n"
     ]
    }
   ],
   "source": [
    "# Wrap the model into a DkNNModel\n",
    "neighbors = 5\n",
    "\n",
    "dknn = DkNNModel(\n",
    "  neighbors = neighbors,\n",
    "  layers = nb_layers,\n",
    "  get_activations = get_activations,\n",
    "  train_data = train_data,\n",
    "  train_labels = train_labels,\n",
    ")"
   ]
  },
  {
   "cell_type": "code",
   "execution_count": 15,
   "metadata": {
    "colab": {
     "base_uri": "https://localhost:8080/"
    },
    "id": "A9n3QcoUrsSM",
    "outputId": "ae165edf-adba-4b30-d2aa-e28d570bfa4a"
   },
   "outputs": [
    {
     "name": "stdout",
     "output_type": "stream",
     "text": [
      "Start model calibration\n",
      "Starting calibration of DkNN.\n",
      "cali_knns_ind.values() dict_values([array([[9724, 6525, 9444, 1673,  522],\n",
      "       [1609, 2184, 5908,  360, 5816],\n",
      "       [6380, 5732, 1658, 1697, 2301],\n",
      "       [2327, 4356, 1877, 8982, 6357],\n",
      "       [ 914, 3998, 9026, 5406,  194],\n",
      "       [3468, 9815, 9312, 6989, 2870],\n",
      "       [  54, 3280, 2827,  272, 4633],\n",
      "       [4544, 4368, 3186, 2520, 4158],\n",
      "       [9500, 9948, 1398, 2868, 5056],\n",
      "       [5044, 3970, 9469, 2453, 4065]], dtype=int32), array([[6435,  522, 2173,  994, 3894],\n",
      "       [5908, 7554, 4514, 2738, 5816],\n",
      "       [9875, 9011, 7303, 2663, 3771],\n",
      "       [4748, 3702, 6113, 4356, 9922],\n",
      "       [3608, 3761, 3990, 8412,  402],\n",
      "       [2166, 3889,  573, 9312, 3468],\n",
      "       [8457, 7296, 9513, 9410, 5105],\n",
      "       [5024, 5898, 4368, 7922, 1962],\n",
      "       [ 958, 8414, 3288, 7294, 8814],\n",
      "       [5044, 9347, 8671, 1291, 6999]], dtype=int32)])\n",
      "cali_knns_labels.values() dict_values([array([[7, 7, 7, 7, 7],\n",
      "       [2, 2, 2, 2, 2],\n",
      "       [1, 1, 1, 1, 1],\n",
      "       [0, 0, 0, 0, 0],\n",
      "       [4, 9, 4, 4, 4],\n",
      "       [1, 1, 1, 1, 1],\n",
      "       [9, 4, 4, 4, 4],\n",
      "       [9, 9, 9, 4, 9],\n",
      "       [6, 8, 6, 5, 5],\n",
      "       [9, 9, 9, 9, 9]], dtype=int32), array([[7, 7, 7, 7, 7],\n",
      "       [2, 2, 2, 2, 2],\n",
      "       [1, 1, 1, 1, 1],\n",
      "       [0, 0, 0, 0, 0],\n",
      "       [4, 4, 4, 4, 4],\n",
      "       [1, 1, 1, 1, 1],\n",
      "       [4, 4, 4, 4, 4],\n",
      "       [9, 9, 9, 9, 9],\n",
      "       [6, 5, 6, 6, 6],\n",
      "       [9, 9, 9, 9, 9]], dtype=int32)])\n",
      "self.nb_cali, self.neighbors)  10 5\n",
      "DkNN calibration complete.\n",
      "Calibrated the model\n"
     ]
    }
   ],
   "source": [
    "print(\"Start model calibration\")\n",
    "dknn.calibrate(cali_data, cali_labels)\n",
    "print(\"Calibrated the model\")"
   ]
  },
  {
   "cell_type": "code",
   "execution_count": 16,
   "metadata": {
    "pycharm": {
     "name": "#%%\n"
    }
   },
   "outputs": [
    {
     "name": "stdout",
     "output_type": "stream",
     "text": [
      "Shape of used test data: (2, 28, 28, 1)\n",
      "Credibility (=how relevant the training set is to the prediction): [[1. 0. 0. 0. 0. 0. 0. 0. 0. 0.]\n",
      " [0. 0. 0. 0. 0. 0. 1. 0. 0. 0.]]\n",
      "Shape of credibility: (2, 10)\n"
     ]
    }
   ],
   "source": [
    "# Test the DkNN on clean test data\n",
    "#Only on limited data for now because of limited resources\n",
    "print(\"Shape of used test data: {}\".format(test_data[:2].shape))\n",
    "dknn_preds = dknn.fprop_np(test_data[:2])\n",
    "print(\"Credibility (=how relevant the training set is to the prediction): {}\".format(dknn_preds))\n",
    "print(\"Shape of credibility: {}\".format(dknn_preds.shape))\n"
   ]
  },
  {
   "cell_type": "code",
   "execution_count": 17,
   "metadata": {
    "pycharm": {
     "name": "#%%\n"
    }
   },
   "outputs": [
    {
     "name": "stdout",
     "output_type": "stream",
     "text": [
      "Shape of used labels: (2,)\n",
      "Mean of predicted labels = true labels: 1.0\n",
      "Saving reliability diagram at: /tmp/dknn_.pdf\n",
      "(2,) (2,)\n",
      "[0, 0, 0, 0, 0, 0, 0, 0, 0, 1.0]\n",
      "[0.05, 0.15, 0.25, 0.35, 0.45, 0.55, 0.65, 0.75, 0.85, 0.95]\n",
      "[0, 0, 0, 0, 0, 0, 0, 0, 0, 2]\n",
      "2\n"
     ]
    },
    {
     "name": "stderr",
     "output_type": "stream",
     "text": [
      "/home/ani/.local/lib/python3.8/site-packages/numpy/core/fromnumeric.py:3419: RuntimeWarning: Mean of empty slice.\n",
      "  return _methods._mean(a, axis=axis, dtype=dtype,\n",
      "/home/ani/.local/lib/python3.8/site-packages/numpy/core/_methods.py:188: RuntimeWarning: invalid value encountered in double_scalars\n",
      "  ret = ret.dtype.type(ret / rcount)\n"
     ]
    },
    {
     "data": {
      "image/png": "[encoded data removed]",
      "text/plain": [
       "<Figure size 432x288 with 2 Axes>"
      ]
     },
     "metadata": {
      "needs_background": "light"
     },
     "output_type": "display_data"
    }
   ],
   "source": [
    "print(\"Shape of used labels: {}\".format(y_test[:2].shape))\n",
    "print(\"Mean of predicted labels = true labels: {}\".format(np.mean(np.argmax(dknn_preds, axis=1) == (y_test[:2]))))\n",
    "plot_reliability_diagram(dknn_preds, (y_test[:2]), '/tmp/dknn_' + '.pdf')"
   ]
  },
  {
   "cell_type": "code",
   "execution_count": 18,
   "metadata": {
    "id": "w_KSuosBxart"
   },
   "outputs": [
    {
     "name": "stdout",
     "output_type": "stream",
     "text": [
      "Shape of data: (2, 28, 28, 1) (from dataset test)\n",
      "Shape of credibility: (2, 10)\n",
      "Mean of predicted labels = true labels: 1.0\n",
      "Saving reliability diagram at: /tmp/dknn_test.pdf\n",
      "(2,) (2,)\n",
      "[0, 0, 0, 0, 0, 0, 0, 0, 0, 1.0]\n",
      "[0.05, 0.15, 0.25, 0.35, 0.45, 0.55, 0.65, 0.75, 0.85, 0.95]\n",
      "[0, 0, 0, 0, 0, 0, 0, 0, 0, 2]\n",
      "2\n"
     ]
    },
    {
     "name": "stderr",
     "output_type": "stream",
     "text": [
      "/home/ani/.local/lib/python3.8/site-packages/numpy/core/fromnumeric.py:3419: RuntimeWarning: Mean of empty slice.\n",
      "  return _methods._mean(a, axis=axis, dtype=dtype,\n",
      "/home/ani/.local/lib/python3.8/site-packages/numpy/core/_methods.py:188: RuntimeWarning: invalid value encountered in double_scalars\n",
      "  ret = ret.dtype.type(ret / rcount)\n"
     ]
    },
    {
     "name": "stdout",
     "output_type": "stream",
     "text": [
      "Shape of data: (2, 28, 28, 1) (from dataset cali)\n",
      "WARNING:tensorflow:5 out of the last 317 calls to <function Model.make_predict_function.<locals>.predict_function at 0x7fa7f911b550> triggered tf.function retracing. Tracing is expensive and the excessive number of tracings could be due to (1) creating @tf.function repeatedly in a loop, (2) passing tensors with different shapes, (3) passing Python objects instead of tensors. For (1), please define your @tf.function outside of the loop. For (2), @tf.function has experimental_relax_shapes=True option that relaxes argument shapes that can avoid unnecessary retracing. For (3), please refer to https://www.tensorflow.org/guide/function#controlling_retracing and https://www.tensorflow.org/api_docs/python/tf/function for  more details.\n",
      "Shape of credibility: (2, 10)\n",
      "Mean of predicted labels = true labels: 0.0\n",
      "Saving reliability diagram at: /tmp/dknn_cali.pdf\n",
      "(2,) (2,)\n",
      "[0, 0, 0, 0, 0, 0, 0, 0, 0, 0]\n",
      "[0.05, 0.15, 0.25, 0.35, 0.45, 0.55, 0.65, 0.75, 0.85, 0.95]\n",
      "[0, 0, 0, 0, 0, 0, 0, 0, 0, 2]\n",
      "2\n"
     ]
    },
    {
     "name": "stderr",
     "output_type": "stream",
     "text": [
      "/home/ani/.local/lib/python3.8/site-packages/numpy/core/fromnumeric.py:3419: RuntimeWarning: Mean of empty slice.\n",
      "  return _methods._mean(a, axis=axis, dtype=dtype,\n",
      "/home/ani/.local/lib/python3.8/site-packages/numpy/core/_methods.py:188: RuntimeWarning: invalid value encountered in double_scalars\n",
      "  ret = ret.dtype.type(ret / rcount)\n"
     ]
    },
    {
     "data": {
      "image/png": "[encoded data removed]",
      "text/plain": [
       "<Figure size 432x288 with 2 Axes>"
      ]
     },
     "metadata": {
      "needs_background": "light"
     },
     "output_type": "display_data"
    },
    {
     "data": {
      "image/png": "[encoded data removed]",
      "text/plain": [
       "<Figure size 432x288 with 2 Axes>"
      ]
     },
     "metadata": {
      "needs_background": "light"
     },
     "output_type": "display_data"
    }
   ],
   "source": [
    "amount_data = 4\n",
    "for data_in, fname in zip([test_data[:amount_data]], ['test']):\n",
    "  print(\"Shape of data: {} (from dataset {})\".format(data_in.shape, fname))\n",
    "  dknn_preds = dknn.fprop_np(data_in)\n",
    "  print(\"Shape of credibility: {}\".format(dknn_preds.shape))\n",
    "  print(\"Mean of predicted labels = true labels: {}\".format(np.mean(np.argmax(dknn_preds, axis=1) == (y_test[:amount_data]))))\n",
    "  plot_reliability_diagram(dknn_preds, y_test[:amount_data], '/tmp/dknn_' + fname + '.pdf')\n",
    "\n",
    "for data_in, fname in zip([cali_data[:amount_data]], ['cali']):\n",
    "  print(\"Shape of data: {} (from dataset {})\".format(data_in.shape, fname))\n",
    "  dknn_preds = dknn.fprop_np(data_in)\n",
    "  print(\"Shape of credibility: {}\".format(dknn_preds.shape))\n",
    "  print(\"Mean of predicted labels = true labels: {}\".format(np.mean(np.argmax(dknn_preds, axis=1) == (cali_labels[:amount_data]))))\n",
    "  plot_reliability_diagram(dknn_preds, cali_labels[:amount_data], '/tmp/dknn_' + fname + '.pdf')\n"
   ]
  },
  {
   "cell_type": "code",
   "execution_count": 19,
   "metadata": {
    "id": "q9RQvXJtrae9",
    "pycharm": {
     "name": "#%%\n"
    }
   },
   "outputs": [
    {
     "data": {
      "text/plain": [
       "{'conv2d': <dknn.NearestNeighbor at 0x7fa7f35319d0>,\n",
       " 'dense': <dknn.NearestNeighbor at 0x7fa7f3529970>}"
      ]
     },
     "execution_count": 19,
     "metadata": {},
     "output_type": "execute_result"
    }
   ],
   "source": [
    "dknn.query_objects"
   ]
  }
 ],
 "metadata": {
  "accelerator": "GPU",
  "colab": {
   "collapsed_sections": [],
   "name": "Copy of 07_kNN_deep_self.ipynb",
   "provenance": []
  },
  "interpreter": {
   "hash": "916dbcbb3f70747c44a77c7bcd40155683ae19c65e1c03b4aa3499c5328201f1"
  },
  "kernelspec": {
   "display_name": "Python 3",
   "language": "python",
   "name": "python3"
  },
  "language_info": {
   "codemirror_mode": {
    "name": "ipython",
    "version": 3
   },
   "file_extension": ".py",
   "mimetype": "text/x-python",
   "name": "python",
   "nbconvert_exporter": "python",
   "pygments_lexer": "ipython3",
   "version": "3.8.10"
  }
 },
 "nbformat": 4,
 "nbformat_minor": 1
}